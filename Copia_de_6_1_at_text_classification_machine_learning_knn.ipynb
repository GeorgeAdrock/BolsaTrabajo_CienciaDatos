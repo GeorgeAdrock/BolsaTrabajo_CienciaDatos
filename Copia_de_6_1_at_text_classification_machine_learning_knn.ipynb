{
  "nbformat": 4,
  "nbformat_minor": 0,
  "metadata": {
    "colab": {
      "provenance": [],
      "collapsed_sections": [],
      "include_colab_link": true
    },
    "kernelspec": {
      "name": "python3",
      "display_name": "Python 3"
    },
    "language_info": {
      "name": "python"
    },
    "accelerator": "GPU"
  },
  "cells": [
    {
      "cell_type": "markdown",
      "metadata": {
        "id": "view-in-github",
        "colab_type": "text"
      },
      "source": [
        "<a href=\"https://colab.research.google.com/github/GeorgeAdrock/BolsaTrabajo_CienciaDatos/blob/main/Copia_de_6_1_at_text_classification_machine_learning_knn.ipynb\" target=\"_parent\"><img src=\"https://colab.research.google.com/assets/colab-badge.svg\" alt=\"Open In Colab\"/></a>"
      ]
    },
    {
      "cell_type": "markdown",
      "source": [
        "#Chile - Universidad Adolfo Ibáñez (UAI)\n",
        "##Curso Analítica Textual\n",
        "### Text Classification - Spam Detection (Inglés)"
      ],
      "metadata": {
        "id": "gkq9Sq14ZoSG"
      }
    },
    {
      "cell_type": "markdown",
      "source": [
        "# Carga & Exploración de Datos"
      ],
      "metadata": {
        "id": "RjGwZ2A3bZf2"
      }
    },
    {
      "cell_type": "code",
      "source": [
        "#Importar Librerías\n",
        "import pandas as pd\n",
        "import numpy as np\n",
        "import spacy"
      ],
      "metadata": {
        "id": "XJWIyZkyZ9_s"
      },
      "execution_count": null,
      "outputs": []
    },
    {
      "cell_type": "code",
      "execution_count": null,
      "metadata": {
        "id": "4zNSU95uZWYI"
      },
      "outputs": [],
      "source": [
        "#Carga de Datos\n",
        "df = pd.read_csv(\"spam_classification.csv\")"
      ]
    },
    {
      "cell_type": "code",
      "source": [
        "#Verificar Columns\n",
        "df.columns"
      ],
      "metadata": {
        "colab": {
          "base_uri": "https://localhost:8080/"
        },
        "id": "NFV7dBFEaMeS",
        "outputId": "38cf7f42-7c89-4b28-8405-d2de433d3eb1"
      },
      "execution_count": null,
      "outputs": [
        {
          "output_type": "execute_result",
          "data": {
            "text/plain": [
              "Index(['category', 'Message'], dtype='object')"
            ]
          },
          "metadata": {},
          "execution_count": 3
        }
      ]
    },
    {
      "cell_type": "code",
      "source": [
        "#Verificar Tamaño\n",
        "df.shape"
      ],
      "metadata": {
        "colab": {
          "base_uri": "https://localhost:8080/"
        },
        "id": "MftL2u1WhSgD",
        "outputId": "76d9bfed-1dc4-4426-9dd3-4325895c96e5"
      },
      "execution_count": null,
      "outputs": [
        {
          "output_type": "execute_result",
          "data": {
            "text/plain": [
              "(5572, 2)"
            ]
          },
          "metadata": {},
          "execution_count": 4
        }
      ]
    },
    {
      "cell_type": "code",
      "source": [
        "#Verificar Contenido\n",
        "df.head()"
      ],
      "metadata": {
        "colab": {
          "base_uri": "https://localhost:8080/",
          "height": 206
        },
        "id": "PeGxrR7Cc0KF",
        "outputId": "0f6da7dd-5494-44cb-e676-e365c2c9f521"
      },
      "execution_count": null,
      "outputs": [
        {
          "output_type": "execute_result",
          "data": {
            "text/plain": [
              "  category                                            Message\n",
              "0      ham  Go until jurong point, crazy.. Available only ...\n",
              "1      ham                      Ok lar... Joking wif u oni...\n",
              "2     spam  Free entry in 2 a wkly comp to win FA Cup fina...\n",
              "3      ham  U dun say so early hor... U c already then say...\n",
              "4      ham  Nah I don't think he goes to usf, he lives aro..."
            ],
            "text/html": [
              "\n",
              "  <div id=\"df-e48ec94f-05b2-4491-8a36-d5c06475ae45\">\n",
              "    <div class=\"colab-df-container\">\n",
              "      <div>\n",
              "<style scoped>\n",
              "    .dataframe tbody tr th:only-of-type {\n",
              "        vertical-align: middle;\n",
              "    }\n",
              "\n",
              "    .dataframe tbody tr th {\n",
              "        vertical-align: top;\n",
              "    }\n",
              "\n",
              "    .dataframe thead th {\n",
              "        text-align: right;\n",
              "    }\n",
              "</style>\n",
              "<table border=\"1\" class=\"dataframe\">\n",
              "  <thead>\n",
              "    <tr style=\"text-align: right;\">\n",
              "      <th></th>\n",
              "      <th>category</th>\n",
              "      <th>Message</th>\n",
              "    </tr>\n",
              "  </thead>\n",
              "  <tbody>\n",
              "    <tr>\n",
              "      <th>0</th>\n",
              "      <td>ham</td>\n",
              "      <td>Go until jurong point, crazy.. Available only ...</td>\n",
              "    </tr>\n",
              "    <tr>\n",
              "      <th>1</th>\n",
              "      <td>ham</td>\n",
              "      <td>Ok lar... Joking wif u oni...</td>\n",
              "    </tr>\n",
              "    <tr>\n",
              "      <th>2</th>\n",
              "      <td>spam</td>\n",
              "      <td>Free entry in 2 a wkly comp to win FA Cup fina...</td>\n",
              "    </tr>\n",
              "    <tr>\n",
              "      <th>3</th>\n",
              "      <td>ham</td>\n",
              "      <td>U dun say so early hor... U c already then say...</td>\n",
              "    </tr>\n",
              "    <tr>\n",
              "      <th>4</th>\n",
              "      <td>ham</td>\n",
              "      <td>Nah I don't think he goes to usf, he lives aro...</td>\n",
              "    </tr>\n",
              "  </tbody>\n",
              "</table>\n",
              "</div>\n",
              "      <button class=\"colab-df-convert\" onclick=\"convertToInteractive('df-e48ec94f-05b2-4491-8a36-d5c06475ae45')\"\n",
              "              title=\"Convert this dataframe to an interactive table.\"\n",
              "              style=\"display:none;\">\n",
              "        \n",
              "  <svg xmlns=\"http://www.w3.org/2000/svg\" height=\"24px\"viewBox=\"0 0 24 24\"\n",
              "       width=\"24px\">\n",
              "    <path d=\"M0 0h24v24H0V0z\" fill=\"none\"/>\n",
              "    <path d=\"M18.56 5.44l.94 2.06.94-2.06 2.06-.94-2.06-.94-.94-2.06-.94 2.06-2.06.94zm-11 1L8.5 8.5l.94-2.06 2.06-.94-2.06-.94L8.5 2.5l-.94 2.06-2.06.94zm10 10l.94 2.06.94-2.06 2.06-.94-2.06-.94-.94-2.06-.94 2.06-2.06.94z\"/><path d=\"M17.41 7.96l-1.37-1.37c-.4-.4-.92-.59-1.43-.59-.52 0-1.04.2-1.43.59L10.3 9.45l-7.72 7.72c-.78.78-.78 2.05 0 2.83L4 21.41c.39.39.9.59 1.41.59.51 0 1.02-.2 1.41-.59l7.78-7.78 2.81-2.81c.8-.78.8-2.07 0-2.86zM5.41 20L4 18.59l7.72-7.72 1.47 1.35L5.41 20z\"/>\n",
              "  </svg>\n",
              "      </button>\n",
              "      \n",
              "  <style>\n",
              "    .colab-df-container {\n",
              "      display:flex;\n",
              "      flex-wrap:wrap;\n",
              "      gap: 12px;\n",
              "    }\n",
              "\n",
              "    .colab-df-convert {\n",
              "      background-color: #E8F0FE;\n",
              "      border: none;\n",
              "      border-radius: 50%;\n",
              "      cursor: pointer;\n",
              "      display: none;\n",
              "      fill: #1967D2;\n",
              "      height: 32px;\n",
              "      padding: 0 0 0 0;\n",
              "      width: 32px;\n",
              "    }\n",
              "\n",
              "    .colab-df-convert:hover {\n",
              "      background-color: #E2EBFA;\n",
              "      box-shadow: 0px 1px 2px rgba(60, 64, 67, 0.3), 0px 1px 3px 1px rgba(60, 64, 67, 0.15);\n",
              "      fill: #174EA6;\n",
              "    }\n",
              "\n",
              "    [theme=dark] .colab-df-convert {\n",
              "      background-color: #3B4455;\n",
              "      fill: #D2E3FC;\n",
              "    }\n",
              "\n",
              "    [theme=dark] .colab-df-convert:hover {\n",
              "      background-color: #434B5C;\n",
              "      box-shadow: 0px 1px 3px 1px rgba(0, 0, 0, 0.15);\n",
              "      filter: drop-shadow(0px 1px 2px rgba(0, 0, 0, 0.3));\n",
              "      fill: #FFFFFF;\n",
              "    }\n",
              "  </style>\n",
              "\n",
              "      <script>\n",
              "        const buttonEl =\n",
              "          document.querySelector('#df-e48ec94f-05b2-4491-8a36-d5c06475ae45 button.colab-df-convert');\n",
              "        buttonEl.style.display =\n",
              "          google.colab.kernel.accessAllowed ? 'block' : 'none';\n",
              "\n",
              "        async function convertToInteractive(key) {\n",
              "          const element = document.querySelector('#df-e48ec94f-05b2-4491-8a36-d5c06475ae45');\n",
              "          const dataTable =\n",
              "            await google.colab.kernel.invokeFunction('convertToInteractive',\n",
              "                                                     [key], {});\n",
              "          if (!dataTable) return;\n",
              "\n",
              "          const docLinkHtml = 'Like what you see? Visit the ' +\n",
              "            '<a target=\"_blank\" href=https://colab.research.google.com/notebooks/data_table.ipynb>data table notebook</a>'\n",
              "            + ' to learn more about interactive tables.';\n",
              "          element.innerHTML = '';\n",
              "          dataTable['output_type'] = 'display_data';\n",
              "          await google.colab.output.renderOutput(dataTable, element);\n",
              "          const docLink = document.createElement('div');\n",
              "          docLink.innerHTML = docLinkHtml;\n",
              "          element.appendChild(docLink);\n",
              "        }\n",
              "      </script>\n",
              "    </div>\n",
              "  </div>\n",
              "  "
            ]
          },
          "metadata": {},
          "execution_count": 5
        }
      ]
    },
    {
      "cell_type": "code",
      "source": [
        "#Generar Label Spam (Binario)\n",
        "df['label'] = np.where(df['category'] == \"spam\", 1, 0)"
      ],
      "metadata": {
        "id": "Lx2DFusVbndU"
      },
      "execution_count": null,
      "outputs": []
    },
    {
      "cell_type": "code",
      "source": [
        "#Verificar Distribución Label\n",
        "df['label'].value_counts(normalize=True)"
      ],
      "metadata": {
        "colab": {
          "base_uri": "https://localhost:8080/"
        },
        "id": "nq6quVnRdS01",
        "outputId": "175c7c4f-6df6-405b-8268-bef0c36a2e14"
      },
      "execution_count": null,
      "outputs": [
        {
          "output_type": "execute_result",
          "data": {
            "text/plain": [
              "0    0.865937\n",
              "1    0.134063\n",
              "Name: label, dtype: float64"
            ]
          },
          "metadata": {},
          "execution_count": 7
        }
      ]
    },
    {
      "cell_type": "markdown",
      "source": [
        "# Pre-Procesamiento"
      ],
      "metadata": {
        "id": "XuUK3z2lbg3d"
      }
    },
    {
      "cell_type": "code",
      "source": [
        "#Descargar spaCy pipeline\n",
        "!python -m spacy download en_core_web_sm -q"
      ],
      "metadata": {
        "id": "VyjozgAOaXZr",
        "colab": {
          "base_uri": "https://localhost:8080/"
        },
        "outputId": "39b1e824-10a0-4b68-b06d-756cd93361c3"
      },
      "execution_count": null,
      "outputs": [
        {
          "output_type": "stream",
          "name": "stdout",
          "text": [
            "\u001b[K     |████████████████████████████████| 12.8 MB 38.2 MB/s \n",
            "\u001b[?25h\u001b[38;5;2m✔ Download and installation successful\u001b[0m\n",
            "You can now load the package via spacy.load('en_core_web_sm')\n"
          ]
        }
      ]
    },
    {
      "cell_type": "code",
      "source": [
        "#Cargar Pipeline\n",
        "nlp = spacy.load(\"en_core_web_sm\")"
      ],
      "metadata": {
        "id": "57QSxU71aOdI"
      },
      "execution_count": null,
      "outputs": []
    },
    {
      "cell_type": "code",
      "source": [
        "#Función para Pre-Processing + Tokenización\n",
        "def get_tokens(text):\n",
        "  doc = nlp(text)\n",
        "  tokens = [token.lemma_.lower() for token in doc if token if not token.is_stop and not token.is_punct and not token.like_url and not token.like_email]\n",
        "  return tokens"
      ],
      "metadata": {
        "id": "2u-n5v4ga96W"
      },
      "execution_count": null,
      "outputs": []
    },
    {
      "cell_type": "markdown",
      "source": [
        "# Modelo Bag of Words & LSA"
      ],
      "metadata": {
        "id": "TJnFstZefHIj"
      }
    },
    {
      "cell_type": "code",
      "source": [
        "#Importar Librerías\n",
        "from sklearn.feature_extraction.text import TfidfVectorizer , CountVectorizer\n",
        "from sklearn.decomposition import TruncatedSVD"
      ],
      "metadata": {
        "id": "OT-96J3tpe4d"
      },
      "execution_count": null,
      "outputs": []
    },
    {
      "cell_type": "code",
      "source": [
        "#Crear Objeto TfidfVectorizer\n",
        "tfidf_vectorizer = TfidfVectorizer(lowercase=None,\n",
        "                                   preprocessor=None, \n",
        "                                   tokenizer=get_tokens)"
      ],
      "metadata": {
        "id": "TK4DK21mfEDi"
      },
      "execution_count": null,
      "outputs": []
    },
    {
      "cell_type": "code",
      "source": [
        "#Ajustar TfidfVectorizer a Mensajes\n",
        "tfidf_vectorizer.fit(df['Message'])\n",
        "print(\"Tamaño Vocabulario:\", len(tfidf_vectorizer.get_feature_names_out()))"
      ],
      "metadata": {
        "colab": {
          "base_uri": "https://localhost:8080/"
        },
        "id": "4Rht-cZUf9qH",
        "outputId": "13c6f016-7f98-41a6-e5d4-3deb7a07081b"
      },
      "execution_count": null,
      "outputs": [
        {
          "output_type": "stream",
          "name": "stderr",
          "text": [
            "/usr/local/lib/python3.7/dist-packages/sklearn/feature_extraction/text.py:517: UserWarning: The parameter 'token_pattern' will not be used since 'tokenizer' is not None'\n",
            "  \"The parameter 'token_pattern' will not be used\"\n"
          ]
        },
        {
          "output_type": "stream",
          "name": "stdout",
          "text": [
            "Tamaño Vocabulario: 7957\n"
          ]
        }
      ]
    },
    {
      "cell_type": "code",
      "source": [
        "#Generar Representación Vectorial\n",
        "tfidf_vectors = tfidf_vectorizer.transform(df['Message'])\n",
        "print(\"Dimensionalidad Rep. Vectorial:\", tfidf_vectors.shape)"
      ],
      "metadata": {
        "colab": {
          "base_uri": "https://localhost:8080/"
        },
        "id": "oPIblIb8gPKK",
        "outputId": "76adbaa0-f3ee-4abd-8972-28473f4891c1"
      },
      "execution_count": null,
      "outputs": [
        {
          "output_type": "stream",
          "name": "stdout",
          "text": [
            "Dimensionalidad Rep. Vectorial: (5572, 7957)\n"
          ]
        }
      ]
    },
    {
      "cell_type": "code",
      "source": [
        "#Parametrización & Ajuste Objeto SVD\n",
        "n_components = 1000\n",
        "SVD = TruncatedSVD(n_components=n_components,\n",
        "                   random_state=0)\n",
        "SVD = SVD.fit(tfidf_vectors)"
      ],
      "metadata": {
        "id": "0OXzrAiKhXVG"
      },
      "execution_count": null,
      "outputs": []
    },
    {
      "cell_type": "code",
      "source": [
        "#Resumen Varianza Explicada\n",
        "print(\"Total Varianza Explicada:\", round(SVD.explained_variance_ratio_.sum(),3))"
      ],
      "metadata": {
        "colab": {
          "base_uri": "https://localhost:8080/"
        },
        "id": "zyJOnWeLiWVL",
        "outputId": "16f518ff-8f2e-4dd8-e4ba-e86c5858888e"
      },
      "execution_count": null,
      "outputs": [
        {
          "output_type": "stream",
          "name": "stdout",
          "text": [
            "Total Varianza Explicada: 0.736\n"
          ]
        }
      ]
    },
    {
      "cell_type": "code",
      "source": [
        "#Transformación Matriz Rep. Vectorial\n",
        "tfidf_lsa_vectors = SVD.transform(tfidf_vectors)\n",
        "print(\"Dimensionalidad Rep. Vectorial:\", tfidf_lsa_vectors.shape)"
      ],
      "metadata": {
        "colab": {
          "base_uri": "https://localhost:8080/"
        },
        "id": "cKJfmzwhiZiY",
        "outputId": "97fa5ba3-ebd3-49de-99e0-22d3a812d3b9"
      },
      "execution_count": null,
      "outputs": [
        {
          "output_type": "stream",
          "name": "stdout",
          "text": [
            "Dimensionalidad Rep. Vectorial: (5572, 1000)\n"
          ]
        }
      ]
    },
    {
      "cell_type": "markdown",
      "source": [
        "# Train & Test Sets"
      ],
      "metadata": {
        "id": "-g5hOMSckPh0"
      }
    },
    {
      "cell_type": "code",
      "source": [
        "#Importar Librerías\n",
        "from sklearn.model_selection import train_test_split"
      ],
      "metadata": {
        "id": "s637fKCvpkZD"
      },
      "execution_count": null,
      "outputs": []
    },
    {
      "cell_type": "code",
      "source": [
        "#Creación Vector Labels\n",
        "labels = np.array(df['label'])"
      ],
      "metadata": {
        "id": "avNuylSoiey4"
      },
      "execution_count": null,
      "outputs": []
    },
    {
      "cell_type": "code",
      "source": [
        "#Creación Train & Test Set\n",
        "train_size = 0.8\n",
        "X_train, X_test, y_train, y_test = train_test_split(tfidf_lsa_vectors, labels, \n",
        "                                                    train_size = train_size, \n",
        "                                                    random_state=0, \n",
        "                                                    stratify = labels)"
      ],
      "metadata": {
        "id": "HsZehmmKkJx3"
      },
      "execution_count": null,
      "outputs": []
    },
    {
      "cell_type": "code",
      "source": [
        "#Validar Tamaño Datasets\n",
        "print('Train Set: X', X_train.shape, '- Y: ',y_train.shape)\n",
        "print('Test Set: X', X_test.shape, '- Y: ',y_test.shape)"
      ],
      "metadata": {
        "colab": {
          "base_uri": "https://localhost:8080/"
        },
        "id": "_flZixTsnKP2",
        "outputId": "c8bae452-c1e3-491d-be71-8a974d4d033e"
      },
      "execution_count": null,
      "outputs": [
        {
          "output_type": "stream",
          "name": "stdout",
          "text": [
            "Train Set: X (4457, 1000) - Y:  (4457,)\n",
            "Test Set: X (1115, 1000) - Y:  (1115,)\n"
          ]
        }
      ]
    },
    {
      "cell_type": "markdown",
      "source": [
        "# KNN"
      ],
      "metadata": {
        "id": "AmM1Xfecvwu0"
      }
    },
    {
      "cell_type": "code",
      "source": [
        "#Importar Librerías\n",
        "from sklearn.model_selection import GridSearchCV\n",
        "from sklearn.model_selection import cross_validate\n",
        "from sklearn.metrics import f1_score, confusion_matrix\n",
        "from sklearn.neighbors import KNeighborsClassifier"
      ],
      "metadata": {
        "id": "oWX8C8-CpobJ"
      },
      "execution_count": null,
      "outputs": []
    },
    {
      "cell_type": "code",
      "source": [
        "#k-NN (Hyper-Parameter Tuning)\n",
        "\n",
        "clf_kNN_grid = KNeighborsClassifier()\n",
        "param_grid_kNN = [{'n_neighbors': list(range(2,10,1))}]\n",
        "\n",
        "clf_kNN_ht = GridSearchCV(estimator = clf_kNN_grid, \n",
        "                          param_grid = param_grid_kNN, \n",
        "                          n_jobs = -1, \n",
        "                          scoring=\"recall_micro\")\n",
        "\n",
        "clf_kNN_ht.fit(X_train, y_train)\n",
        "\n",
        "print('Best Parameters: \\n', clf_kNN_ht.best_params_)"
      ],
      "metadata": {
        "colab": {
          "base_uri": "https://localhost:8080/"
        },
        "id": "wikR83rroFta",
        "outputId": "d2e997f2-1d87-4e25-9cf2-ad9bf9824f0d"
      },
      "execution_count": null,
      "outputs": [
        {
          "output_type": "stream",
          "name": "stdout",
          "text": [
            "Best Parameters: \n",
            " {'n_neighbors': 3}\n"
          ]
        }
      ]
    },
    {
      "cell_type": "code",
      "source": [
        "#Entrenamiento K-NN (Mejor Hiper-Parámetro)\n",
        "clf_kNN = KNeighborsClassifier(n_neighbors = clf_kNN_ht.best_params_['n_neighbors'])\n",
        "clf_kNN.fit(X_train, y_train)"
      ],
      "metadata": {
        "colab": {
          "base_uri": "https://localhost:8080/"
        },
        "id": "KO_akpX7ADHh",
        "outputId": "646dbb91-c477-4175-b7d5-8881d5289ac8"
      },
      "execution_count": null,
      "outputs": [
        {
          "output_type": "execute_result",
          "data": {
            "text/plain": [
              "KNeighborsClassifier(n_neighbors=3)"
            ]
          },
          "metadata": {},
          "execution_count": 24
        }
      ]
    },
    {
      "cell_type": "code",
      "source": [
        "#Validación Cruzada (Train Set)\n",
        "cross_val_scores = cross_validate(clf_kNN, X_train, y_train, cv=5, scoring=['f1'])\n",
        "print('Promedio F1-Score:', round(cross_val_scores['test_f1'].mean(),3))\n",
        "print('Desviación F1-Score:', round(cross_val_scores['test_f1'].std(),3))"
      ],
      "metadata": {
        "colab": {
          "base_uri": "https://localhost:8080/"
        },
        "id": "OlmfF2r9CzW7",
        "outputId": "ef1788f9-1568-4f1c-f0f6-1d269a49824e"
      },
      "execution_count": null,
      "outputs": [
        {
          "output_type": "stream",
          "name": "stdout",
          "text": [
            "Promedio F1-Score: 0.69\n",
            "Desviación F1-Score: 0.02\n"
          ]
        }
      ]
    },
    {
      "cell_type": "code",
      "source": [
        "#Predicción Test Set\n",
        "y_pred_KNN = clf_kNN.predict(X_test)"
      ],
      "metadata": {
        "id": "6P5lCKe-usBt"
      },
      "execution_count": null,
      "outputs": []
    },
    {
      "cell_type": "code",
      "source": [
        "#Evaluación Test Set\n",
        "print('Confusion Matrix:\\n',confusion_matrix(y_test, y_pred_KNN))\n",
        "print('F1 Score:', round(f1_score(y_test, y_pred_KNN),3))"
      ],
      "metadata": {
        "colab": {
          "base_uri": "https://localhost:8080/"
        },
        "id": "ItdfOfySAqDt",
        "outputId": "9c4f9406-afbb-4882-c80c-453815d6e904"
      },
      "execution_count": null,
      "outputs": [
        {
          "output_type": "stream",
          "name": "stdout",
          "text": [
            "Confusion Matrix:\n",
            " [[964   2]\n",
            " [ 76  73]]\n",
            "F1 Score: 0.652\n"
          ]
        }
      ]
    },
    {
      "cell_type": "markdown",
      "source": [
        "# Decision Curve Analysis"
      ],
      "metadata": {
        "id": "eDUJPwaIxq_B"
      }
    },
    {
      "cell_type": "code",
      "source": [
        "#Importar Código DCA\n",
        "from dca_ml import *"
      ],
      "metadata": {
        "id": "-axNM6lSBMsG"
      },
      "execution_count": null,
      "outputs": []
    },
    {
      "cell_type": "code",
      "source": [
        "#Plotting Decision Curve Analysis\n",
        "\n",
        "clfs = [clf_kNN]\n",
        "names = ['k-NN']\n",
        "p_min = 0.0\n",
        "p_max = 1.00\n",
        "epsilon = 0.05\n",
        "\n",
        "plot_decision_curves(clfs, names, X_test, y_test, p_min, p_max, epsilon)"
      ],
      "metadata": {
        "id": "9sm8cFHexqiV",
        "colab": {
          "base_uri": "https://localhost:8080/",
          "height": 692
        },
        "outputId": "e6e4bc52-f378-4eec-adf9-c53c41875a90"
      },
      "execution_count": null,
      "outputs": [
        {
          "output_type": "display_data",
          "data": {
            "text/plain": [
              "<Figure size 1200x800 with 1 Axes>"
            ],
            "image/png": "[encoded data removed]"
          },
          "metadata": {
            "needs_background": "light"
          }
        }
      ]
    },
    {
      "cell_type": "markdown",
      "source": [
        "# SVM"
      ],
      "metadata": {
        "id": "FLSA0qbOiJ_4"
      }
    },
    {
      "cell_type": "code",
      "source": [
        "#Importar Librerías\n",
        "from sklearn.model_selection import GridSearchCV\n",
        "from sklearn.model_selection import cross_validate\n",
        "from sklearn.metrics import f1_score, confusion_matrix\n",
        "from sklearn.svm import SVC\n",
        "from sklearn import decomposition\n",
        "\n",
        "from sklearn.preprocessing import LabelEncoder"
      ],
      "metadata": {
        "id": "H3_2XN3RiToK"
      },
      "execution_count": null,
      "outputs": []
    },
    {
      "cell_type": "code",
      "source": [
        "#SVM(Hyper-Parameter Tuning)\n",
        "\n",
        "clf_SVN_grid = SVC()\n",
        "# defining parameter range\n",
        "# Set the parameters by cross-validation\n",
        "tuned_parameters = [{'kernel': ['rbf'], 'gamma': [1e-2, 1e-3, 1e-4, 1e-5],\n",
        "                     'C': [0.001, 0.10, 0.1, 10, 25, 50, 100, 1000]},\n",
        "                    {'kernel': ['sigmoid'], 'gamma': [1e-2, 1e-3, 1e-4, 1e-5],\n",
        "                     'C': [0.001, 0.10, 0.1, 10, 25, 50, 100, 1000]},\n",
        "                    {'kernel': ['linear'], 'C': [0.001, 0.10, 0.1, 10, 25, 50, 100, 1000]}\n",
        "                   ]\n",
        "\n",
        "\n",
        "\n",
        "clf_SVC_ht = GridSearchCV(estimator = clf_SVN_grid, \n",
        "                          param_grid = tuned_parameters, \n",
        "                          n_jobs = -1, \n",
        "                          refit = True, verbose = 3,\n",
        "                          scoring=\"f1\")\n",
        "\n",
        "clf_SVC_ht.fit(X_train, y_train)\n",
        "\n",
        "# print best parameter after tuning\n",
        "print(clf_SVC_ht.best_params_)\n",
        "  \n",
        "# print how our model looks after hyper-parameter tuning\n",
        "print(clf_SVC_ht.best_estimator_)"
      ],
      "metadata": {
        "colab": {
          "base_uri": "https://localhost:8080/"
        },
        "id": "f1Ox_N6oi-LH",
        "outputId": "ccd4f3f6-5693-4718-9295-3f0585565825"
      },
      "execution_count": null,
      "outputs": [
        {
          "output_type": "stream",
          "name": "stdout",
          "text": [
            "Fitting 5 folds for each of 72 candidates, totalling 360 fits\n",
            "{'C': 100, 'gamma': 0.01, 'kernel': 'rbf'}\n",
            "SVC(C=100, gamma=0.01)\n"
          ]
        }
      ]
    },
    {
      "cell_type": "code",
      "source": [
        "clf_SVC_ht.best_params_"
      ],
      "metadata": {
        "colab": {
          "base_uri": "https://localhost:8080/"
        },
        "id": "SkWU_rKPmU9l",
        "outputId": "71be5d53-8af5-4259-bed5-ce6d46593667"
      },
      "execution_count": null,
      "outputs": [
        {
          "output_type": "execute_result",
          "data": {
            "text/plain": [
              "{'C': 100, 'gamma': 0.01, 'kernel': 'rbf'}"
            ]
          },
          "metadata": {},
          "execution_count": 40
        }
      ]
    },
    {
      "cell_type": "code",
      "source": [
        "\n",
        "my_svm = SVC(C=100, kernel=\"rbf\",  probability=True)\n",
        "my_svm.fit(X_train, y_train)\n"
      ],
      "metadata": {
        "colab": {
          "base_uri": "https://localhost:8080/"
        },
        "id": "x-_e7xMIleu4",
        "outputId": "58f33fc1-dd40-4e82-ad3d-26a83d305c66"
      },
      "execution_count": null,
      "outputs": [
        {
          "output_type": "execute_result",
          "data": {
            "text/plain": [
              "SVC(C=100, probability=True)"
            ]
          },
          "metadata": {},
          "execution_count": 42
        }
      ]
    },
    {
      "cell_type": "code",
      "source": [
        "#Validación Cruzada (Train Set)\n",
        "cross_val_scores = cross_validate(my_svm, X_train, y_train, cv=5, scoring=['f1'])\n",
        "print('Promedio F1-Score:', round(cross_val_scores['test_f1'].mean(),3))\n",
        "print('Desviación F1-Score:', round(cross_val_scores['test_f1'].std(),3))"
      ],
      "metadata": {
        "colab": {
          "base_uri": "https://localhost:8080/"
        },
        "id": "7jSbpllcljFi",
        "outputId": "6e89db5c-5a95-4002-929e-2435d737aef2"
      },
      "execution_count": null,
      "outputs": [
        {
          "output_type": "stream",
          "name": "stdout",
          "text": [
            "Promedio F1-Score: 0.936\n",
            "Desviación F1-Score: 0.009\n"
          ]
        }
      ]
    },
    {
      "cell_type": "code",
      "source": [
        "#Predicción Test Set\n",
        "y_pred_SVM = my_svm.predict(X_test)"
      ],
      "metadata": {
        "id": "rKSKhFJ5pZaD"
      },
      "execution_count": null,
      "outputs": []
    },
    {
      "cell_type": "code",
      "source": [
        "#Evaluación Test Set\n",
        "print('Confusion Matrix:\\n',confusion_matrix(y_test, y_pred_SVM))\n",
        "print('F1 Score:', round(f1_score(y_test, y_pred_SVM),3))"
      ],
      "metadata": {
        "colab": {
          "base_uri": "https://localhost:8080/"
        },
        "id": "UgT-p8CYpboF",
        "outputId": "f3362a40-173b-4e2b-eb72-3b757b0717cb"
      },
      "execution_count": null,
      "outputs": [
        {
          "output_type": "stream",
          "name": "stdout",
          "text": [
            "Confusion Matrix:\n",
            " [[965   1]\n",
            " [ 26 123]]\n",
            "F1 Score: 0.901\n"
          ]
        }
      ]
    },
    {
      "cell_type": "code",
      "source": [
        "#Plotting Decision Curve Analysis\n",
        "\n",
        "clfs = [clf_kNN,my_svm]\n",
        "names = ['kNN','SVM']\n",
        "p_min = 0.0\n",
        "p_max = 1.00\n",
        "epsilon = 0.05\n",
        "\n",
        "plot_decision_curves(clfs, names, X_test, y_test, p_min, p_max, epsilon)"
      ],
      "metadata": {
        "colab": {
          "base_uri": "https://localhost:8080/",
          "height": 692
        },
        "id": "5coZwrhYta4O",
        "outputId": "006b66f5-5ad1-450f-bd6d-955f3d688f32"
      },
      "execution_count": null,
      "outputs": [
        {
          "output_type": "display_data",
          "data": {
            "text/plain": [
              "<Figure size 1200x800 with 1 Axes>"
            ],
            "image/png": "[encoded data removed]"
          },
          "metadata": {
            "needs_background": "light"
          }
        }
      ]
    }
  ]
}